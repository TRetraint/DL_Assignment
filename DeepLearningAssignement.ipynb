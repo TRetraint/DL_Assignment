{
  "nbformat": 4,
  "nbformat_minor": 0,
  "metadata": {
    "colab": {
      "name": "DeepLearningAssignement.ipynb",
      "provenance": [],
      "collapsed_sections": [],
      "authorship_tag": "ABX9TyN6JMWxNfLc1cgx0r0/Fr5z"
    },
    "kernelspec": {
      "name": "python3",
      "display_name": "Python 3"
    }
  },
  "cells": [
    {
      "cell_type": "markdown",
      "metadata": {
        "id": "DV9xXJDhY-b9"
      },
      "source": [
        "# Deep Learning Assignement Notebook\r\n"
      ]
    },
    {
      "cell_type": "code",
      "metadata": {
        "id": "bEWFF_s2X64e",
        "colab": {
          "base_uri": "https://localhost:8080/"
        },
        "outputId": "bf5ac0b6-c313-4846-9582-9fa5940542cc"
      },
      "source": [
        "import tensorflow\r\n",
        "\r\n",
        "print(1+1)"
      ],
      "execution_count": 3,
      "outputs": [
        {
          "output_type": "stream",
          "text": [
            "2\n"
          ],
          "name": "stdout"
        }
      ]
    }
  ]
}